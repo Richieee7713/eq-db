{
 "cells": [
  {
   "cell_type": "code",
   "execution_count": 0,
   "metadata": {
    "application/vnd.databricks.v1+cell": {
     "cellMetadata": {},
     "inputWidgets": {},
     "nuid": "980a4fca-8ef3-4a81-b11b-82a918d0f78d",
     "showTitle": false,
     "tableResultSettingsMap": {},
     "title": ""
    }
   },
   "outputs": [],
   "source": [
    "# app.py\n",
    "import streamlit as st\n",
    "import pandas as pd\n",
    "from datetime import date\n",
    "from energyquantified import EnergyQuantified\n",
    "from energyquantified.metadata import Aggregation\n",
    "from energyquantified.time import Frequency\n"
   ]
  },
  {
   "cell_type": "code",
   "execution_count": 0,
   "metadata": {
    "application/vnd.databricks.v1+cell": {
     "cellMetadata": {},
     "inputWidgets": {},
     "nuid": "148496fa-e926-4982-ae92-72754009eebb",
     "showTitle": false,
     "tableResultSettingsMap": {},
     "title": ""
    }
   },
   "outputs": [],
   "source": [
    "\n",
    "# 读取 API 密钥（建议用 secrets）\n",
    "API_KEY = st.secrets[\"eq_api_key\"]\n",
    "\n",
    "st.set_page_config(page_title=\"\uD83C\uDDE9\uD83C\uDDEA DE Electricity Price Viewer\", layout=\"wide\")\n",
    "st.title(\"⚡ DE DA Auction Dashboard\")\n",
    "st.caption(\"Resource: Energy Quantified (EPEX Spot)\")\n",
    "\n",
    "# 初始化 EQ 对象\n",
    "eq = EnergyQuantified(api_key=API_KEY)\n",
    "\n",
    "# 日期选择器（默认 2022-01-01 至今天）\n",
    "col1, col2 = st.columns(2)\n",
    "with col1:\n",
    "    begin_date = st.date_input(\"Start Date\", date(2022, 1, 1))\n",
    "with col2:\n",
    "    end_date = st.date_input(\"End Date\", date.today())\n",
    "\n",
    "# 加载数据\n",
    "@st.cache_data(show_spinner=True)\n",
    "def load_data(begin, end):\n",
    "    ts = eq.timeseries.load(\n",
    "        'DE Price Spot EUR/MWh EPEX H Actual',\n",
    "        begin=begin,\n",
    "        end=end,\n",
    "        frequency=Frequency.PTHW,\n",
    "        aggregation=Aggregation.MEAN,\n",
    "        threshold=0\n",
    "    ).to_pandas_dataframe()\n",
    "\n",
    "    df = ts.copy()\n",
    "    df.columns = [col[0] for col in df.columns]\n",
    "    df.reset_index(inplace=True)\n",
    "    return df\n",
    "\n",
    "try:\n",
    "    df = load_data(begin_date, end_date)\n",
    "    st.success(f\"✅ Loading {len(df)}\")\n",
    "    st.dataframe(df.head())\n",
    "\n",
    "    # 可视化\n",
    "    import plotly.express as px\n",
    "    fig = px.line(df, x=\"start\", y=\"value\", title=\"DE Electricity Price (EUR/MWh)\")\n",
    "    st.plotly_chart(fig, use_container_width=True)\n",
    "\n",
    "except Exception as e:\n",
    "    st.error(f\"❌ Fail to load the data: {e}\")"
   ]
  }
 ],
 "metadata": {
  "application/vnd.databricks.v1+notebook": {
   "computePreferences": null,
   "dashboards": [],
   "environmentMetadata": {
    "base_environment": "",
    "environment_version": "3"
   },
   "inputWidgetPreferences": null,
   "language": "python",
   "notebookMetadata": {
    "pythonIndentUnit": 4
   },
   "notebookName": "eq ds",
   "widgets": {}
  },
  "language_info": {
   "name": "python"
  }
 },
 "nbformat": 4,
 "nbformat_minor": 0
}